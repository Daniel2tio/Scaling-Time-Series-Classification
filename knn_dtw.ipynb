{
  "nbformat": 4,
  "nbformat_minor": 0,
  "metadata": {
    "colab": {
      "provenance": []
    },
    "kernelspec": {
      "name": "python3",
      "display_name": "Python 3"
    },
    "language_info": {
      "name": "python"
    }
  },
  "cells": [
    {
      "cell_type": "code",
      "execution_count": 3,
      "metadata": {
        "colab": {
          "base_uri": "https://localhost:8080/"
        },
        "id": "O3cRrcM1_NjG",
        "outputId": "3c03267c-fb41-49aa-a8f0-8cbbaffca365"
      },
      "outputs": [
        {
          "output_type": "stream",
          "name": "stdout",
          "text": [
            "Drive already mounted at /content/drive; to attempt to forcibly remount, call drive.mount(\"/content/drive\", force_remount=True).\n",
            "Requirement already satisfied: fastdtw in /usr/local/lib/python3.10/dist-packages (0.3.4)\n",
            "Requirement already satisfied: numpy in /usr/local/lib/python3.10/dist-packages (from fastdtw) (1.25.2)\n",
            "Requirement already satisfied: PySpark in /usr/local/lib/python3.10/dist-packages (3.5.1)\n",
            "Requirement already satisfied: py4j==0.10.9.7 in /usr/local/lib/python3.10/dist-packages (from PySpark) (0.10.9.7)\n"
          ]
        }
      ],
      "source": [
        "from google.colab import drive\n",
        "from pyspark.sql import SparkSession\n",
        "drive.mount(\"/content/drive\")\n",
        "!pip install fastdtw\n",
        "!pip install PySpark\n",
        "\n",
        "\n",
        "# Initialize Spark session\n",
        "spark = SparkSession.builder \\\n",
        "    .appName(\"DTW Parallel\") \\\n",
        "    .config(\"spark.master\", \"local[*]\") \\\n",
        "    .getOrCreate()\n"
      ]
    },
    {
      "cell_type": "code",
      "source": [
        "import matplotlib.pyplot as plt\n",
        "from pyspark.sql.functions import rand\n",
        "from pyspark.ml.linalg import Vectors\n",
        "from pyspark.ml.feature import VectorAssembler ,StandardScaler, PCA\n",
        "from fastdtw import fastdtw\n",
        "import numpy as np\n",
        "import pandas as pd\n",
        "import scipy.io.arff as arff\n",
        "from pyspark.sql.types import StructType, StructField, StringType\n",
        "from pyspark.sql.functions import monotonically_increasing_id\n",
        "import time\n",
        "\n",
        "\n",
        "\n",
        "###################### Loading and pre-processing ##########################\n",
        "\n",
        "# Start the timer\n",
        "start_time = time.time()\n",
        "\n",
        "# Load data into Spark DataFrames\n",
        "load_train = arff.loadarff('/content/drive/MyDrive/ElectricDevices_TRAIN.arff')\n",
        "load_test = arff.loadarff(\"/content/drive/MyDrive/ElectricDevices_TEST.arff\")\n",
        "\n",
        "tr = pd.DataFrame(load_train[0])\n",
        "tst = pd.DataFrame(load_test[0])\n",
        "\n",
        "# Convert Pandas DataFrame to Spark DataFrame\n",
        "train_df = spark.createDataFrame(tr)\n",
        "test_df = spark.createDataFrame(tst)\n",
        "\n",
        "\n",
        "# Get feature names iterator\n",
        "features = train_df.drop(\"target\").columns\n",
        "\n",
        "# Assemble features into a single vector\n",
        "assembler = VectorAssembler(inputCols=features, outputCol=\"features\")\n",
        "assembled_train = assembler.transform(train_df)\n",
        "assembled_test = assembler.transform(test_df)\n",
        "\n",
        "# Standardize features\n",
        "scaler = StandardScaler(inputCol=\"features\", outputCol=\"scaled_features\", withMean=True, withStd=True)\n",
        "#Fit scaler using train data, then apply to both df, prevent bias\n",
        "scaler_model = scaler.fit(assembled_train)\n",
        "scaled_train = scaler_model.transform(assembled_train)\n",
        "scaled_test = scaler_model.transform(assembled_test)\n",
        "\n",
        "#Perform PCA with all features\n",
        "pca = PCA(k=len(features), inputCol=\"scaled_features\", outputCol=\"pca_features\")\n",
        "# Fit PCA on the training set\n",
        "pca_model = pca.fit(scaled_train)\n",
        "\n",
        "# Extract explained variance ratio from the PCA model\n",
        "explained_variance_ratio = pca_model.explainedVariance.toArray()\n",
        "\n",
        "# Initialize an array to store the averaged eigenvalues from random datasets\n",
        "random_eigenvalues = np.zeros(len(explained_variance_ratio))\n",
        "\n",
        "# Number of random datasets\n",
        "num_random_datasets = 20\n",
        "\n",
        "# Generate random datasets and compute eigenvalues for each\n",
        "for i in range(num_random_datasets):\n",
        "    # Generate random data similar to scaled_train\n",
        "    random_data = scaled_train.select(\"scaled_features\").rdd.map(lambda row: row[0]).map(lambda x: (Vectors.dense(np.random.normal(0, 1, len(x))),)).toDF([\"scaled_features\"])\n",
        "\n",
        "    # Fit PCA on random data\n",
        "    pca_random_model = pca.fit(random_data)\n",
        "\n",
        "    # Extract explained variance ratio and accumulate\n",
        "    random_eigenvalues += pca_random_model.explainedVariance.toArray()\n",
        "\n",
        "\n",
        "# Average eigenvalues of random\n",
        "random_eigenvalues /= num_random_datasets\n",
        "\n",
        "# Plot parallel analysis\n",
        "plt.plot(explained_variance_ratio, '--bo', label='Actual Eigenvalues')\n",
        "plt.plot(random_eigenvalues, '--rx', label='Random Eigenvalues')\n",
        "plt.legend()\n",
        "plt.title('Parallel Analysis Plot')\n",
        "plt.xlabel('Number of Components')\n",
        "plt.ylabel('Explained Variance')\n",
        "plt.show()\n",
        "\n",
        "# Define the number of components as the number of features with higher variance ratio than random\n",
        "num_components = len([i for i, evr in enumerate(explained_variance_ratio) if evr > random_eigenvalues[i]])\n",
        "print(\"Number of PC extracted using PA:\", num_components)\n",
        "\n",
        "# Perform PCA with the selected number of components\n",
        "pca = PCA(k=num_components, inputCol=\"scaled_features\", outputCol=\"pca_features\")\n",
        "\n",
        "# Fit PCA on the training set\n",
        "pca_model = pca.fit(scaled_train)\n",
        "\n",
        "# Transform the training and test sets\n",
        "train_pca = pca_model.transform(scaled_train).select([\"pca_features\",\"target\"]).withColumnRenamed(\"pca_features\",\"pca_features_train\")\n",
        "test_pca = pca_model.transform(scaled_test).select([\"pca_features\", \"target\"]).withColumnRenamed(\"pca_features\",\"pca_features_test\")\n",
        "\n",
        "# Create id columns\n",
        "train = train_pca.withColumn(\"train_id\", monotonically_increasing_id())\n",
        "test = test_pca.withColumn(\"test_id\", monotonically_increasing_id())\n",
        "\n",
        "# Convert the \"target\" column from bytearray to string\n",
        "train = train.withColumn(\"target\", train[\"target\"].cast(\"string\"))\n",
        "test = test.withColumn(\"target\", test[\"target\"].cast(\"string\"))\n",
        "\n",
        "# Stop the timer\n",
        "end_time = time.time()\n",
        "\n",
        "# Calculate the elapsed time\n",
        "elapsed_time = end_time - start_time\n",
        "\n",
        "print(\"Elapsed Time for preprocessing and PCA with PA:\", elapsed_time, \"seconds\")"
      ],
      "metadata": {
        "colab": {
          "base_uri": "https://localhost:8080/",
          "height": 507
        },
        "id": "z-OaWW5H16GN",
        "outputId": "a24e98ff-709a-4139-e6e6-e22dcee3b7c0"
      },
      "execution_count": 4,
      "outputs": [
        {
          "output_type": "display_data",
          "data": {
            "text/plain": [
              "<Figure size 640x480 with 1 Axes>"
            ],
            "image/png": "[encoded data removed]"
          },
          "metadata": {}
        },
        {
          "output_type": "stream",
          "name": "stdout",
          "text": [
            "Number of PC extracted using PA: 26\n",
            "Elapsed Time for preprocessing and PCA with PA: 122.63035082817078 seconds\n"
          ]
        }
      ]
    },
    {
      "cell_type": "code",
      "source": [
        "from sklearn.neighbors import KNeighborsClassifier\n",
        "from pyspark.sql.functions import udf\n",
        "from pyspark.sql.types import IntegerType\n",
        "from pyspark.sql.functions import col, explode, broadcast, count, desc, row_number\n",
        "from pyspark.ml.feature import BucketedRandomProjectionLSH\n",
        "from pyspark.ml.linalg import Vectors\n",
        "from pyspark.sql import Row, functions as F\n",
        "from pyspark.sql.window import Window\n",
        "from pyspark.ml.feature import StringIndexer, IndexToString\n",
        "from sklearn.metrics import classification_report, confusion_matrix, accuracy_score, balanced_accuracy_score\n",
        "from sklearn.preprocessing import LabelEncoder\n",
        "from sklearn.neighbors import KNeighborsClassifier\n",
        "import warnings\n",
        "\n",
        "# Suppress warnings due to zero divisions when calculating metrics\n",
        "warnings.filterwarnings(\"ignore\")\n",
        "\n",
        "############################  Data Sampling ######################################################\n",
        "# If true return a sample of data, otherwise full data set\n",
        "def get_data(train, test, testing):\n",
        "  if testing:\n",
        "      n_train = 1000\n",
        "      n_test = 1000\n",
        "  else:\n",
        "    n_train = train.count() # 8926 rows\n",
        "    n_test = test.count() # 7711 rows\n",
        "\n",
        "  X_train = train.limit(n_train).select([\"pca_features_train\", \"train_id\"])\n",
        "  y_train = train.limit(n_train).select([\"target\", \"train_id\"])\n",
        "\n",
        "  X_test = test.limit(n_test).select([\"pca_features_test\", \"test_id\"])\n",
        "  y_test = test.limit(n_test).select([\"target\", \"test_id\"])\n",
        "\n",
        "  return X_train, y_train, X_test, y_test\n",
        "\n",
        "################################################# KNN with DTW definition ###############################################################\n",
        "\n",
        "# Define a custom distance function using DTW\n",
        "def dtw(row):\n",
        "  #Row(test=Row(pca_features_test=DenseVector([-5.217, 3.0353]), test_id=0), train=Row(pca_features_train=DenseVector([1.3094, 2.0754]), train_id=0))\n",
        "    distance, _ = fastdtw(row[0][\"pca_features_test\"], row[1][\"pca_features_train\"])\n",
        "    return [distance, row[1][\"train_id\"],row[0][\"test_id\"]]\n",
        "\n",
        "def knn_predict(train, X_train, y_train, X_test, k):\n",
        "\n",
        "     # Calculate DTW distance for all test train combinations\n",
        "    cartesian_df = X_test.rdd.cartesian(X_train.rdd).map(lambda x: dtw(x)).toDF([\"distance\", \"train_id\", \"test_id\"])\n",
        "\n",
        "    # Partition by test_id and rank distances within each partition\n",
        "    window_spec = Window.partitionBy(\"test_id\").orderBy(\"distance\")\n",
        "    ranked_df = cartesian_df.withColumn(\"rank\", row_number().over(window_spec))\n",
        "\n",
        "    # Filter to keep only the top k nearest neighbors for each test point\n",
        "    k_nearest_neighbors_df = ranked_df.filter(ranked_df[\"rank\"] <= k).drop(\"rank\")\n",
        "\n",
        "    # Add an alias to the train DataFrame\n",
        "    train_alias = train.select(\"train_id\", \"target\").withColumnRenamed(\"target\", \"neighbor_target\").alias(\"train_alias\")\n",
        "\n",
        "    # Join with the original DataFrame to retrieve the targets of the neighbors\n",
        "    predictions_df = k_nearest_neighbors_df.join(train_alias, on=k_nearest_neighbors_df[\"train_id\"] == train_alias[\"train_alias.train_id\"], how=\"inner\")\n",
        "\n",
        "    # Group by test_id and collect the targets of k nearest neighbors for each test point\n",
        "    predictions_df = predictions_df.groupBy(\"test_id\").agg(F.collect_list(\"neighbor_target\").alias(\"neighbor_targets\"))\n",
        "\n",
        "    # Define a UDF to determine the majority class\n",
        "    majority_class_udf = F.udf(lambda neighbors: max(set(neighbors), key=neighbors.count), F.StringType())\n",
        "\n",
        "    # Apply the majority class UDF to predict the label for each test point\n",
        "    predictions_df = predictions_df.withColumn(\"predicted_label\", majority_class_udf(predictions_df[\"neighbor_targets\"]))\n",
        "\n",
        "    # Select the test_id and predicted_label columns\n",
        "    predictions_df = predictions_df.select(\"test_id\", \"predicted_label\")\n",
        "\n",
        "    return predictions_df\n",
        "\n",
        "\n",
        "\n",
        "######################## KNN using SKLEARN for validation #############################################\n",
        "# DTW to be used with sklearn knn\n",
        "def dtw_distance(X, Y):\n",
        "  distance, _ = fastdtw(X, Y)\n",
        "  return distance\n",
        "\n",
        "def sklearn_knn(X_train, y_train, X_test, y_test, k):\n",
        "  #Start timer\n",
        "  start_time = time.time()\n",
        "\n",
        "  # Collect the features and labels from Spark DataFrames into local lists\n",
        "  X_train = np.concatenate(X_train.select(\"pca_features_train\").collect(), axis=0)\n",
        "  X_test = np.concatenate(X_test.select(\"pca_features_test\").collect(), axis=0)\n",
        "\n",
        "  y_train = np.concatenate(y_train.select(\"target\").collect(), axis=0)\n",
        "  y_test = np.concatenate(y_test.select(\"target\").collect(), axis=0)\n",
        "\n",
        "  # Reshape the feature arrays to 2D\n",
        "  X_train = X_train.reshape((X_train.shape[0], -1))\n",
        "  X_test = X_test.reshape((X_test.shape[0], -1))\n",
        "\n",
        "  # Reshape the label arrays to 1D\n",
        "  y_train = y_train.reshape(-1)\n",
        "  y_test = y_test.reshape(-1)\n",
        "\n",
        "  # Create an instance of KNeighborsClassifier with custom DTW distance function\n",
        "  knn = KNeighborsClassifier(n_neighbors=k, metric=dtw_distance)\n",
        "\n",
        "  # Train the KNN classifier on the training data\n",
        "  knn.fit(X_train, y_train)\n",
        "\n",
        "  # Obtain predictions for the test data\n",
        "  y_pred = knn.predict(X_test)\n",
        "\n",
        "  # Use classification_report to generate a report\n",
        "  report = classification_report(y_test, y_pred, output_dict=True)\n",
        "\n",
        "  # Print the weighted average metrics\n",
        "  weighted_avg_precision = report['weighted avg']['precision']\n",
        "  weighted_avg_recall = report['weighted avg']['recall']\n",
        "  weighted_avg_f1_score = report['weighted avg']['f1-score']\n",
        "\n",
        "\n",
        "  print(f\"Precision: {weighted_avg_precision}\")\n",
        "  print(f\"Recall: {weighted_avg_recall}\")\n",
        "  print(f\"F1-score: {weighted_avg_f1_score}\")\n",
        "\n",
        "  # Calculate balanced accuracy\n",
        "  balanced_acc = balanced_accuracy_score(y_test, y_pred)\n",
        "  print(f\"Balanced Accuracy: {balanced_acc}\")\n",
        "\n",
        "\n",
        "  # Stop the timer\n",
        "  end_time = time.time()\n",
        "  # Calculate the elapsed time\n",
        "  elapsed_time = end_time - start_time\n",
        "  print(\"Elapsed Time:\", elapsed_time, \"seconds\")\n",
        "\n",
        "\n",
        "####################################################  Evaluation  method ##############################################################################\n",
        "\n",
        "\n",
        "def evaluate(train, X_train, y_train, X_test, y_test, k):\n",
        "  # Start the timer\n",
        "  start_time = time.time()\n",
        "\n",
        "  # Custom KNN with DTW\n",
        "  pred = knn_predict(train, X_train, y_train, X_test, k)\n",
        "\n",
        "  predictions_and_labels = pred.join(y_test, on =\"test_id\", how=\"inner\")\n",
        "\n",
        "  # Convert Spark DataFrame columns to lists or arrays\n",
        "  y_true = predictions_and_labels.select(\"target\").rdd.flatMap(lambda x: x).collect()\n",
        "  y_pred = predictions_and_labels.select(\"predicted_label\").rdd.flatMap(lambda x: x).collect()\n",
        "\n",
        "  # Use classification_report to generate a report\n",
        "  report = classification_report(y_true, y_pred, output_dict=True)\n",
        "\n",
        "  # Print confusion matrix\n",
        "  print(\"Confusion Matrix:\")\n",
        "  print(confusion_matrix(y_true, y_pred))\n",
        "\n",
        "  # Print the weighted average metrics\n",
        "  weighted_avg_precision = report['weighted avg']['precision']\n",
        "  weighted_avg_recall = report['weighted avg']['recall']\n",
        "  weighted_avg_f1_score = report['weighted avg']['f1-score']\n",
        "\n",
        "  print(f\"Precision: {weighted_avg_precision}\")\n",
        "  print(f\"Recall: {weighted_avg_recall}\")\n",
        "  print(f\"F1-score: {weighted_avg_f1_score}\")\n",
        "\n",
        "  # Calculate balanced accuracy\n",
        "  balanced_acc = balanced_accuracy_score(y_true, y_pred)\n",
        "  print(f\"Balanced Accuracy: {balanced_acc}\")\n",
        "\n",
        "  # Stop the timer\n",
        "  end_time = time.time()\n",
        "\n",
        "  # Calculate the elapsed time\n",
        "  elapsed_time = end_time - start_time\n",
        "\n",
        "  print(\"Elapsed Time:\", elapsed_time, \"seconds\")"
      ],
      "metadata": {
        "id": "baEzRtDgvZnD"
      },
      "execution_count": 9,
      "outputs": []
    },
    {
      "cell_type": "code",
      "source": [
        "################################## Tests ##############################################\n",
        "# Test both models on subset of data to compare perfomance and see if same results are obtained\n",
        "def test_models(train, test, k, testing):\n",
        "  print(\"\\nKneighbors:\", k)\n",
        "\n",
        "  X_train, y_train, X_test, y_test = get_data(train, test, testing)\n",
        "\n",
        "  print(\"\\nCustom knn:\")\n",
        "  evaluate(train, X_train, y_train, X_test, y_test, k)\n",
        "\n",
        "  print(\"\\nSklearn knn:\")\n",
        "  sklearn_knn(X_train, y_train, X_test, y_test, k)"
      ],
      "metadata": {
        "id": "pslGjAyxrqq_"
      },
      "execution_count": 11,
      "outputs": []
    },
    {
      "cell_type": "code",
      "source": [
        "#Run models on a subset of the data\n",
        "test_models(train, test, k=10, testing=True)"
      ],
      "metadata": {
        "colab": {
          "base_uri": "https://localhost:8080/"
        },
        "id": "chx3a0Si3e8b",
        "outputId": "133a039a-d404-45c9-904a-b37e73efaf23"
      },
      "execution_count": 87,
      "outputs": [
        {
          "output_type": "stream",
          "name": "stdout",
          "text": [
            "\n",
            "Kneighbors: 10\n",
            "\n",
            "Custom knn:\n",
            "Confusion Matrix:\n",
            "[[ 62   1  63  50   0   0]\n",
            " [  0   0   0   0   0   0]\n",
            " [  3  45 198  15   0   0]\n",
            " [ 49   4  78  72   0   0]\n",
            " [ 67  57  92  22   0   0]\n",
            " [ 11   2 104   5   0   0]]\n",
            "Precision: 0.24254967707621003\n",
            "Recall: 0.332\n",
            "F1-score: 0.2687997950896528\n",
            "Balanced Accuracy: 0.29311464397671294\n",
            "Elapsed Time: 181.66223430633545 seconds\n",
            "\n",
            "Sklearn knn:\n",
            "Precision: 0.2440101644586569\n",
            "Recall: 0.325\n",
            "F1-score: 0.2643636613193046\n",
            "Balanced Accuracy: 0.28732833258695323\n",
            "Elapsed Time: 75.61997151374817 seconds\n"
          ]
        }
      ]
    },
    {
      "cell_type": "code",
      "source": [
        "# Run models on a subset of the data\n",
        "test_models(train, test, k=5, testing=True)"
      ],
      "metadata": {
        "colab": {
          "base_uri": "https://localhost:8080/"
        },
        "id": "l0Z_LTgpcCv5",
        "outputId": "bc694529-b86b-4be4-8206-ce3af2b8f4b9"
      },
      "execution_count": 88,
      "outputs": [
        {
          "output_type": "stream",
          "name": "stdout",
          "text": [
            "\n",
            "Kneighbors: 5\n",
            "\n",
            "Custom knn:\n",
            "Confusion Matrix:\n",
            "[[ 67   1  47  61   0   0]\n",
            " [  0   0   0   0   0   0]\n",
            " [  2  38 210  11   0   0]\n",
            " [ 51   4  64  84   0   0]\n",
            " [ 69  53  81  35   0   0]\n",
            " [ 13   1  89  19   0   0]]\n",
            "Precision: 0.2512055655260027\n",
            "Recall: 0.361\n",
            "F1-score: 0.29073908217371974\n",
            "Balanced Accuracy: 0.31981452455590387\n",
            "Elapsed Time: 182.54745078086853 seconds\n",
            "\n",
            "Sklearn knn:\n",
            "Precision: 0.26459193374679096\n",
            "Recall: 0.365\n",
            "F1-score: 0.2967903481382932\n",
            "Balanced Accuracy: 0.32489675075881974\n",
            "Elapsed Time: 73.90063858032227 seconds\n"
          ]
        }
      ]
    },
    {
      "cell_type": "code",
      "source": [
        "# Run models on a subset of the data\n",
        "test_models(train, test, k=50, testing=True)"
      ],
      "metadata": {
        "colab": {
          "base_uri": "https://localhost:8080/"
        },
        "id": "IfXGvoDRduyH",
        "outputId": "46845a5d-06d6-4f1c-cedf-f75efab49318"
      },
      "execution_count": 89,
      "outputs": [
        {
          "output_type": "stream",
          "name": "stdout",
          "text": [
            "\n",
            "Kneighbors: 50\n",
            "\n",
            "Custom knn:\n",
            "Confusion Matrix:\n",
            "[[ 36   4  98  38   0   0]\n",
            " [  0   0   0   0   0   0]\n",
            " [  0  92 156  13   0   0]\n",
            " [ 37   8 112  46   0   0]\n",
            " [ 57  64 102  15   0   0]\n",
            " [  2   4 114   2   0   0]]\n",
            "Precision: 0.19987104358835234\n",
            "Recall: 0.238\n",
            "F1-score: 0.1966555484099631\n",
            "Balanced Accuracy: 0.20576951783848338\n",
            "Elapsed Time: 179.3695650100708 seconds\n",
            "\n",
            "Sklearn knn:\n",
            "Precision: 0.201481234479404\n",
            "Recall: 0.238\n",
            "F1-score: 0.19686692257683533\n",
            "Balanced Accuracy: 0.20592065979997015\n",
            "Elapsed Time: 74.93346405029297 seconds\n"
          ]
        }
      ]
    },
    {
      "cell_type": "code",
      "source": [
        "# Run models on a subset of the data\n",
        "test_models(train, test, k=3, testing=True)"
      ],
      "metadata": {
        "colab": {
          "base_uri": "https://localhost:8080/"
        },
        "id": "YRp0S1IorW29",
        "outputId": "9b141b4d-0166-48f3-bd59-33a1a702d285"
      },
      "execution_count": 12,
      "outputs": [
        {
          "output_type": "stream",
          "name": "stdout",
          "text": [
            "\n",
            "Kneighbors: 3\n",
            "\n",
            "Custom knn:\n",
            "Confusion Matrix:\n",
            "[[ 68   0  48  60   0   0]\n",
            " [  0   0   0   0   0   0]\n",
            " [  3  35 215   8   0   0]\n",
            " [ 52   3  61  87   0   0]\n",
            " [ 71  53  74  40   0   0]\n",
            " [ 20   2  76  24   0   0]]\n",
            "Precision: 0.25495514521066526\n",
            "Recall: 0.37\n",
            "F1-score: 0.29776965832632724\n",
            "Balanced Accuracy: 0.3277379708414191\n",
            "Elapsed Time: 219.44442081451416 seconds\n",
            "\n",
            "Sklearn knn:\n",
            "Precision: 0.26460629580880124\n",
            "Recall: 0.372\n",
            "F1-score: 0.3021098609551496\n",
            "Balanced Accuracy: 0.3307664079215803\n",
            "Elapsed Time: 79.74341320991516 seconds\n"
          ]
        }
      ]
    },
    {
      "cell_type": "code",
      "source": [
        "# Get full dataset\n",
        "X_train, y_train, X_test, y_test = get_data(train, test, testing=False)\n",
        "\n",
        "print(\"\\nSklearn knn using full dataset:\")\n",
        "sklearn_knn(X_train, y_train, X_test, y_test, k=5)"
      ],
      "metadata": {
        "colab": {
          "base_uri": "https://localhost:8080/"
        },
        "id": "S5KTIl-KsGbt",
        "outputId": "7246d6a7-8aca-477f-c627-4c4741dcc612"
      },
      "execution_count": null,
      "outputs": [
        {
          "output_type": "stream",
          "name": "stdout",
          "text": [
            "\n",
            "Sklearn knn using full dataset:\n"
          ]
        }
      ]
    }
  ]
}